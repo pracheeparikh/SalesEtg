{
  "nbformat": 4,
  "nbformat_minor": 0,
  "metadata": {
    "colab": {
      "name": "Untitled1.ipynb",
      "provenance": []
    },
    "kernelspec": {
      "name": "python3",
      "display_name": "Python 3"
    },
    "language_info": {
      "name": "python"
    }
  },
  "cells": [
    {
      "cell_type": "code",
      "metadata": {
        "id": "4bSsfwwkIfXf"
      },
      "source": [
        "record={ 10001:{\"productname\":\"kitkat\",\"quanity\":20,\"price\":10,\"expirydate\":\"6monthafter\",\"productof\":\"Nestle\"},10002:{\"productname\":\"perk\",\"quanity\":15,\"price\":10,\"expirydate\":\"6monthafter\",\"productof\":\"Cadbury\"},10003:{\"productname\":\"Dairymilk\",\"quanity\":50,\"price\":5,\"expirydate\":\"12monthafter\",\"productof\":\"Cadbury\"},10004:{\"productname\":\"Snickers\",\"quanity\":20,\"price\":25,\"expirydate\":\"4monthafter\",\"productof\":\"Hersheys\"},10005:{\"productname\":\"Layschilly\",\"quanity\":80,\"price\":20,\"expirydate\":\"6monthafter\",\"productof\":\"Lays\"},10006:{\"productname\":\"Sweet potato Wafers\",\"quanity\":50,\"price\":10,\"expirydate\":\"12monthafter\",\"productof\":\"Balaji\"},10007:{\"productname\":\"M&Ms\",\"quanity\":30,\"price\":20,\"expirydate\":\"6monthafter\",\"productof\":\"Hersheys\"},10008:{\"productname\":\"Kurkure\",\"quanity\":50,\"price\":5,\"expirydate\":\"12monthafter\",\"productof\":\"Kurkure\"},10009:{\"productname\":\"Chocospread\",\"quanity\":40,\"price\":80,\"expirydate\":\"12monthafter\",\"productof\":\"Pillsbury\"},10010:{\"productname\":\"Rumbles\",\"quanity\":30,\"price\":10,\"expirydate\":\"12monthafter\",\"productof\":\"Balaji\"},10011:{\"productname\":\"moongdal\",\"quanity\":20,\"price\":5,\"expirydate\":\"6monthafter\",\"productof\":\"Balaji\"},10012:{\"productname\":\"buttermilk\",\"quanity\":50,\"price\":15,\"expirydate\":\"24hoursafter\",\"productof\":\"Sumul\"},10013:{\"productname\":\"Curd\",\"quanity\":50,\"price\":20,\"expirydate\":\"2monthsafter\",\"productof\":\"Sumul\"},10014:{\"productname\":\"Pulse\",\"quanity\":150,\"price\":1,\"expirydate\":\"12monthafter\",\"productof\":\"mills\"},10015:{\"productname\":\"5star\",\"quanity\":50,\"price\":10,\"expirydate\":\"12monthafter\",\"productof\":\"Cadbury\"},10016:{\"productname\":\"Munch\",\"quanity\":25,\"price\":5,\"expirydate\":\"6monthafter\",\"productof\":\"Cadbury\"},10017:{\"productname\":\"Darkchoclate\",\"quanity\":20,\"price\":70,\"expirydate\":\"6monthafter\",\"productof\":\"Amul\"},10018:{\"productname\":\"chocochips\",\"quanity\":30,\"price\":45,\"expirydate\":\"8monthafter\",\"productof\":\"Havmor\"},10019:{\"productname\":\"pineapple cake\",\"quanity\":5,\"price\":150,\"expirydate\":\"6monthafter\",\"productof\":\"Creamcrust\"},10020:{\"productname\":\"Lassi\",\"quanity\":20,\"price\":15,\"expirydate\":\"5monthafter\",\"productof\":\"Amul\"},10021:{\"productname\":\"coconut milk\",\"quanity\":20,\"price\":10,\"expirydate\":\"9monthafter\",\"productof\":\"maheshCo.\"},10022:{\"productname\":\"RedBull\",\"quanity\":25,\"price\":60,\"expirydate\":\"12monthafter\",\"productof\":\"beveragesandco\"},10023:{\"productname\":\"sting\",\"quanity\":15,\"price\":45,\"expirydate\":\"8monthafter\",\"productof\":\"sting energy\"},10024:{\"productname\":\"soda\",\"quanity\":50,\"price\":10,\"expirydate\":\"12monthafter\",\"productof\":\"cocacola\"},10025:{\"productname\":\"sprite\",\"quanity\":50,\"price\":40,\"expirydate\":\"12monthafter\",\"productof\":\"cocacola\"},10026:{\"productname\":\"fanta\",\"quanity\":20,\"price\":40,\"expirydate\":\"12monthafter\",\"productof\":\"cocacola\"},10027:{\"productname\":\"Pepsi\",\"quanity\":10,\"price\":30,\"expirydate\":\"12monthafter\",\"productof\":\"PepsiandCo\"},10028:{\"productname\":\"Limca\",\"quanity\":20,\"price\":45,\"expirydate\":\"12monthafter\",\"productof\":\"cocacola\"},10029:{\"productname\":\"Thumbsup\",\"quanity\":30,\"price\":40,\"expirydate\":\"12monthafter\",\"productof\":\"cocacola\"},10030:{\"productname\":\"lemonade\",\"quanity\":20,\"price\":35,\"expirydate\":\"6monthafter\",\"productof\":\"minutemaid\"}}"
      ],
      "execution_count": 1,
      "outputs": []
    },
    {
      "cell_type": "code",
      "metadata": {
        "colab": {
          "base_uri": "https://localhost:8080/"
        },
        "id": "IK9CT9pzI0Y1",
        "outputId": "af514dac-d032-4c96-c760-f454f1e4aa72"
      },
      "source": [
        "record"
      ],
      "execution_count": 2,
      "outputs": [
        {
          "output_type": "execute_result",
          "data": {
            "text/plain": [
              "{10001: {'expirydate': '6monthafter',\n",
              "  'price': 10,\n",
              "  'productname': 'kitkat',\n",
              "  'productof': 'Nestle',\n",
              "  'quanity': 20},\n",
              " 10002: {'expirydate': '6monthafter',\n",
              "  'price': 10,\n",
              "  'productname': 'perk',\n",
              "  'productof': 'Cadbury',\n",
              "  'quanity': 15},\n",
              " 10003: {'expirydate': '12monthafter',\n",
              "  'price': 5,\n",
              "  'productname': 'Dairymilk',\n",
              "  'productof': 'Cadbury',\n",
              "  'quanity': 50},\n",
              " 10004: {'expirydate': '4monthafter',\n",
              "  'price': 25,\n",
              "  'productname': 'Snickers',\n",
              "  'productof': 'Hersheys',\n",
              "  'quanity': 20},\n",
              " 10005: {'expirydate': '6monthafter',\n",
              "  'price': 20,\n",
              "  'productname': 'Layschilly',\n",
              "  'productof': 'Lays',\n",
              "  'quanity': 80},\n",
              " 10006: {'expirydate': '12monthafter',\n",
              "  'price': 10,\n",
              "  'productname': 'Sweet potato Wafers',\n",
              "  'productof': 'Balaji',\n",
              "  'quanity': 50},\n",
              " 10007: {'expirydate': '6monthafter',\n",
              "  'price': 20,\n",
              "  'productname': 'M&Ms',\n",
              "  'productof': 'Hersheys',\n",
              "  'quanity': 30},\n",
              " 10008: {'expirydate': '12monthafter',\n",
              "  'price': 5,\n",
              "  'productname': 'Kurkure',\n",
              "  'productof': 'Kurkure',\n",
              "  'quanity': 50},\n",
              " 10009: {'expirydate': '12monthafter',\n",
              "  'price': 80,\n",
              "  'productname': 'Chocospread',\n",
              "  'productof': 'Pillsbury',\n",
              "  'quanity': 40},\n",
              " 10010: {'expirydate': '12monthafter',\n",
              "  'price': 10,\n",
              "  'productname': 'Rumbles',\n",
              "  'productof': 'Balaji',\n",
              "  'quanity': 30},\n",
              " 10011: {'expirydate': '6monthafter',\n",
              "  'price': 5,\n",
              "  'productname': 'moongdal',\n",
              "  'productof': 'Balaji',\n",
              "  'quanity': 20},\n",
              " 10012: {'expirydate': '24hoursafter',\n",
              "  'price': 15,\n",
              "  'productname': 'buttermilk',\n",
              "  'productof': 'Sumul',\n",
              "  'quanity': 50},\n",
              " 10013: {'expirydate': '2monthsafter',\n",
              "  'price': 20,\n",
              "  'productname': 'Curd',\n",
              "  'productof': 'Sumul',\n",
              "  'quanity': 50},\n",
              " 10014: {'expirydate': '12monthafter',\n",
              "  'price': 1,\n",
              "  'productname': 'Pulse',\n",
              "  'productof': 'mills',\n",
              "  'quanity': 150},\n",
              " 10015: {'expirydate': '12monthafter',\n",
              "  'price': 10,\n",
              "  'productname': '5star',\n",
              "  'productof': 'Cadbury',\n",
              "  'quanity': 50},\n",
              " 10016: {'expirydate': '6monthafter',\n",
              "  'price': 5,\n",
              "  'productname': 'Munch',\n",
              "  'productof': 'Cadbury',\n",
              "  'quanity': 25},\n",
              " 10017: {'expirydate': '6monthafter',\n",
              "  'price': 70,\n",
              "  'productname': 'Darkchoclate',\n",
              "  'productof': 'Amul',\n",
              "  'quanity': 20},\n",
              " 10018: {'expirydate': '8monthafter',\n",
              "  'price': 45,\n",
              "  'productname': 'chocochips',\n",
              "  'productof': 'Havmor',\n",
              "  'quanity': 30},\n",
              " 10019: {'expirydate': '6monthafter',\n",
              "  'price': 150,\n",
              "  'productname': 'pineapple cake',\n",
              "  'productof': 'Creamcrust',\n",
              "  'quanity': 5},\n",
              " 10020: {'expirydate': '5monthafter',\n",
              "  'price': 15,\n",
              "  'productname': 'Lassi',\n",
              "  'productof': 'Amul',\n",
              "  'quanity': 20},\n",
              " 10021: {'expirydate': '9monthafter',\n",
              "  'price': 10,\n",
              "  'productname': 'coconut milk',\n",
              "  'productof': 'maheshCo.',\n",
              "  'quanity': 20},\n",
              " 10022: {'expirydate': '12monthafter',\n",
              "  'price': 60,\n",
              "  'productname': 'RedBull',\n",
              "  'productof': 'beveragesandco',\n",
              "  'quanity': 25},\n",
              " 10023: {'expirydate': '8monthafter',\n",
              "  'price': 45,\n",
              "  'productname': 'sting',\n",
              "  'productof': 'sting energy',\n",
              "  'quanity': 15},\n",
              " 10024: {'expirydate': '12monthafter',\n",
              "  'price': 10,\n",
              "  'productname': 'soda',\n",
              "  'productof': 'cocacola',\n",
              "  'quanity': 50},\n",
              " 10025: {'expirydate': '12monthafter',\n",
              "  'price': 40,\n",
              "  'productname': 'sprite',\n",
              "  'productof': 'cocacola',\n",
              "  'quanity': 50},\n",
              " 10026: {'expirydate': '12monthafter',\n",
              "  'price': 40,\n",
              "  'productname': 'fanta',\n",
              "  'productof': 'cocacola',\n",
              "  'quanity': 20},\n",
              " 10027: {'expirydate': '12monthafter',\n",
              "  'price': 30,\n",
              "  'productname': 'Pepsi',\n",
              "  'productof': 'PepsiandCo',\n",
              "  'quanity': 10},\n",
              " 10028: {'expirydate': '12monthafter',\n",
              "  'price': 45,\n",
              "  'productname': 'Limca',\n",
              "  'productof': 'cocacola',\n",
              "  'quanity': 20},\n",
              " 10029: {'expirydate': '12monthafter',\n",
              "  'price': 40,\n",
              "  'productname': 'Thumbsup',\n",
              "  'productof': 'cocacola',\n",
              "  'quanity': 30},\n",
              " 10030: {'expirydate': '6monthafter',\n",
              "  'price': 35,\n",
              "  'productname': 'lemonade',\n",
              "  'productof': 'minutemaid',\n",
              "  'quanity': 20}}"
            ]
          },
          "metadata": {},
          "execution_count": 2
        }
      ]
    },
    {
      "cell_type": "code",
      "metadata": {
        "id": "lREG2zn8I0bx"
      },
      "source": [
        "import json"
      ],
      "execution_count": 3,
      "outputs": []
    },
    {
      "cell_type": "code",
      "metadata": {
        "colab": {
          "base_uri": "https://localhost:8080/",
          "height": 120
        },
        "id": "h742NcN_I0eR",
        "outputId": "e36a2de2-93a8-489b-ffe0-b09ec9f99a8c"
      },
      "source": [
        "json.dumps(record)"
      ],
      "execution_count": 4,
      "outputs": [
        {
          "output_type": "execute_result",
          "data": {
            "application/vnd.google.colaboratory.intrinsic+json": {
              "type": "string"
            },
            "text/plain": [
              "'{\"10001\": {\"productname\": \"kitkat\", \"quanity\": 20, \"price\": 10, \"expirydate\": \"6monthafter\", \"productof\": \"Nestle\"}, \"10002\": {\"productname\": \"perk\", \"quanity\": 15, \"price\": 10, \"expirydate\": \"6monthafter\", \"productof\": \"Cadbury\"}, \"10003\": {\"productname\": \"Dairymilk\", \"quanity\": 50, \"price\": 5, \"expirydate\": \"12monthafter\", \"productof\": \"Cadbury\"}, \"10004\": {\"productname\": \"Snickers\", \"quanity\": 20, \"price\": 25, \"expirydate\": \"4monthafter\", \"productof\": \"Hersheys\"}, \"10005\": {\"productname\": \"Layschilly\", \"quanity\": 80, \"price\": 20, \"expirydate\": \"6monthafter\", \"productof\": \"Lays\"}, \"10006\": {\"productname\": \"Sweet potato Wafers\", \"quanity\": 50, \"price\": 10, \"expirydate\": \"12monthafter\", \"productof\": \"Balaji\"}, \"10007\": {\"productname\": \"M&Ms\", \"quanity\": 30, \"price\": 20, \"expirydate\": \"6monthafter\", \"productof\": \"Hersheys\"}, \"10008\": {\"productname\": \"Kurkure\", \"quanity\": 50, \"price\": 5, \"expirydate\": \"12monthafter\", \"productof\": \"Kurkure\"}, \"10009\": {\"productname\": \"Chocospread\", \"quanity\": 40, \"price\": 80, \"expirydate\": \"12monthafter\", \"productof\": \"Pillsbury\"}, \"10010\": {\"productname\": \"Rumbles\", \"quanity\": 30, \"price\": 10, \"expirydate\": \"12monthafter\", \"productof\": \"Balaji\"}, \"10011\": {\"productname\": \"moongdal\", \"quanity\": 20, \"price\": 5, \"expirydate\": \"6monthafter\", \"productof\": \"Balaji\"}, \"10012\": {\"productname\": \"buttermilk\", \"quanity\": 50, \"price\": 15, \"expirydate\": \"24hoursafter\", \"productof\": \"Sumul\"}, \"10013\": {\"productname\": \"Curd\", \"quanity\": 50, \"price\": 20, \"expirydate\": \"2monthsafter\", \"productof\": \"Sumul\"}, \"10014\": {\"productname\": \"Pulse\", \"quanity\": 150, \"price\": 1, \"expirydate\": \"12monthafter\", \"productof\": \"mills\"}, \"10015\": {\"productname\": \"5star\", \"quanity\": 50, \"price\": 10, \"expirydate\": \"12monthafter\", \"productof\": \"Cadbury\"}, \"10016\": {\"productname\": \"Munch\", \"quanity\": 25, \"price\": 5, \"expirydate\": \"6monthafter\", \"productof\": \"Cadbury\"}, \"10017\": {\"productname\": \"Darkchoclate\", \"quanity\": 20, \"price\": 70, \"expirydate\": \"6monthafter\", \"productof\": \"Amul\"}, \"10018\": {\"productname\": \"chocochips\", \"quanity\": 30, \"price\": 45, \"expirydate\": \"8monthafter\", \"productof\": \"Havmor\"}, \"10019\": {\"productname\": \"pineapple cake\", \"quanity\": 5, \"price\": 150, \"expirydate\": \"6monthafter\", \"productof\": \"Creamcrust\"}, \"10020\": {\"productname\": \"Lassi\", \"quanity\": 20, \"price\": 15, \"expirydate\": \"5monthafter\", \"productof\": \"Amul\"}, \"10021\": {\"productname\": \"coconut milk\", \"quanity\": 20, \"price\": 10, \"expirydate\": \"9monthafter\", \"productof\": \"maheshCo.\"}, \"10022\": {\"productname\": \"RedBull\", \"quanity\": 25, \"price\": 60, \"expirydate\": \"12monthafter\", \"productof\": \"beveragesandco\"}, \"10023\": {\"productname\": \"sting\", \"quanity\": 15, \"price\": 45, \"expirydate\": \"8monthafter\", \"productof\": \"sting energy\"}, \"10024\": {\"productname\": \"soda\", \"quanity\": 50, \"price\": 10, \"expirydate\": \"12monthafter\", \"productof\": \"cocacola\"}, \"10025\": {\"productname\": \"sprite\", \"quanity\": 50, \"price\": 40, \"expirydate\": \"12monthafter\", \"productof\": \"cocacola\"}, \"10026\": {\"productname\": \"fanta\", \"quanity\": 20, \"price\": 40, \"expirydate\": \"12monthafter\", \"productof\": \"cocacola\"}, \"10027\": {\"productname\": \"Pepsi\", \"quanity\": 10, \"price\": 30, \"expirydate\": \"12monthafter\", \"productof\": \"PepsiandCo\"}, \"10028\": {\"productname\": \"Limca\", \"quanity\": 20, \"price\": 45, \"expirydate\": \"12monthafter\", \"productof\": \"cocacola\"}, \"10029\": {\"productname\": \"Thumbsup\", \"quanity\": 30, \"price\": 40, \"expirydate\": \"12monthafter\", \"productof\": \"cocacola\"}, \"10030\": {\"productname\": \"lemonade\", \"quanity\": 20, \"price\": 35, \"expirydate\": \"6monthafter\", \"productof\": \"minutemaid\"}}'"
            ]
          },
          "metadata": {},
          "execution_count": 4
        }
      ]
    },
    {
      "cell_type": "markdown",
      "metadata": {
        "id": "TStEDJyeJFDg"
      },
      "source": [
        "**paying process**"
      ]
    },
    {
      "cell_type": "code",
      "metadata": {
        "colab": {
          "base_uri": "https://localhost:8080/"
        },
        "id": "TtKFgDgzJOyW",
        "outputId": "e52ac372-4a01-4f01-8479-15129d2fcfa7"
      },
      "source": [
        "dict.keys(record)"
      ],
      "execution_count": 5,
      "outputs": [
        {
          "output_type": "execute_result",
          "data": {
            "text/plain": [
              "dict_keys([10001, 10002, 10003, 10004, 10005, 10006, 10007, 10008, 10009, 10010, 10011, 10012, 10013, 10014, 10015, 10016, 10017, 10018, 10019, 10020, 10021, 10022, 10023, 10024, 10025, 10026, 10027, 10028, 10029, 10030])"
            ]
          },
          "metadata": {},
          "execution_count": 5
        }
      ]
    },
    {
      "cell_type": "code",
      "metadata": {
        "id": "kmIaVH83JSCZ"
      },
      "source": [
        "lst = []\n",
        "for i in dict.keys(record):\n",
        "        lst.append(i)"
      ],
      "execution_count": 6,
      "outputs": []
    },
    {
      "cell_type": "code",
      "metadata": {
        "colab": {
          "base_uri": "https://localhost:8080/"
        },
        "id": "RkRM0yCoJSGJ",
        "outputId": "68d25643-b2e0-4854-ad00-2f0ff86713af"
      },
      "source": [
        "lst"
      ],
      "execution_count": 7,
      "outputs": [
        {
          "output_type": "execute_result",
          "data": {
            "text/plain": [
              "[10001,\n",
              " 10002,\n",
              " 10003,\n",
              " 10004,\n",
              " 10005,\n",
              " 10006,\n",
              " 10007,\n",
              " 10008,\n",
              " 10009,\n",
              " 10010,\n",
              " 10011,\n",
              " 10012,\n",
              " 10013,\n",
              " 10014,\n",
              " 10015,\n",
              " 10016,\n",
              " 10017,\n",
              " 10018,\n",
              " 10019,\n",
              " 10020,\n",
              " 10021,\n",
              " 10022,\n",
              " 10023,\n",
              " 10024,\n",
              " 10025,\n",
              " 10026,\n",
              " 10027,\n",
              " 10028,\n",
              " 10029,\n",
              " 10030]"
            ]
          },
          "metadata": {},
          "execution_count": 7
        }
      ]
    },
    {
      "cell_type": "code",
      "metadata": {
        "id": "dunIpOCtJSJm"
      },
      "source": [
        "import time"
      ],
      "execution_count": 8,
      "outputs": []
    },
    {
      "cell_type": "code",
      "metadata": {
        "colab": {
          "base_uri": "https://localhost:8080/"
        },
        "id": "dTbWBoKcNHA3",
        "outputId": "6d9a3070-47bf-4b34-fed5-101c842cc2b9"
      },
      "source": [
        "productID= int(input(\"Enter the product id that you wanna add into cart\"))\n",
        "Quantity= input(\"Enter the no of quantity you wanna add\")\n",
        "\n",
        "for i in range(30):\n",
        "    if(lst[i] == int(productID)):\n",
        "        print(\"---- Welcome to Local Store----\\n\")\n",
        "        print(\"You added \"+record[productID][\"productname\"]+\" in the list \\n\")\n",
        "        amount=record[productID][\"price\"] * int(Quantity)\n",
        "        print(\"-----The Billing amount is-----\")\n",
        "        print(\"The amount is \",amount)\n",
        "        print(\"Its Product of \"+ record[productID][\"productof\"])\n",
        "        print(\" It expires on \"+record[productID][\"expirydate\"])\n",
        "        print(\"Time of purchase-\")\n",
        "        top=time.ctime()\n",
        "        print(top)\n",
        "        print(\"Thanks For purchasing from our Store , Visit Again !!!!\")\n",
        "        k=record[productID][\"quanity\"]\n",
        "        k=int(k)-int(Quantity)\n",
        "        record[productID][\"quanity\"]=k\n",
        "        print(k)\n",
        "        break\n",
        "    else:\n",
        "        continue"
      ],
      "execution_count": 21,
      "outputs": [
        {
          "output_type": "stream",
          "name": "stdout",
          "text": [
            "Enter the product id that you wanna add into cart10005\n",
            "Enter the no of quantity you wanna add1\n",
            "---- Welcome to Local Store----\n",
            "\n",
            "You added Layschilly in the list \n",
            "\n",
            "-----The Billing amount is-----\n",
            "The amount is  20\n",
            "Its Product of Lays\n",
            " It expires on 6monthafter\n",
            "Time of purchase-\n",
            "Sun Sep  5 09:06:09 2021\n",
            "Thanks For purchasing from our Store , Visit Again !!!!\n"
          ]
        }
      ]
    },
    {
      "cell_type": "code",
      "metadata": {
        "id": "wKbU-_kJNk_k"
      },
      "source": [
        "fp=open(\"sales.jason\", \"w\")\n",
        "fp.write(str(record))\n",
        "fp.close()"
      ],
      "execution_count": 26,
      "outputs": []
    },
    {
      "cell_type": "code",
      "metadata": {
        "colab": {
          "base_uri": "https://localhost:8080/"
        },
        "id": "VoWOZjZAOAQz",
        "outputId": "84351b44-fd87-4321-f391-2645b9b3176c"
      },
      "source": [
        "record"
      ],
      "execution_count": 27,
      "outputs": [
        {
          "output_type": "execute_result",
          "data": {
            "text/plain": [
              "{10001: {'expirydate': '6monthafter',\n",
              "  'price': 10,\n",
              "  'productname': 'kitkat',\n",
              "  'productof': 'Nestle',\n",
              "  'quanity': 18},\n",
              " 10002: {'expirydate': '6monthafter',\n",
              "  'price': 10,\n",
              "  'productname': 'perk',\n",
              "  'productof': 'Cadbury',\n",
              "  'quanity': 15},\n",
              " 10003: {'expirydate': '12monthafter',\n",
              "  'price': 5,\n",
              "  'productname': 'Dairymilk',\n",
              "  'productof': 'Cadbury',\n",
              "  'quanity': 41},\n",
              " 10004: {'expirydate': '4monthafter',\n",
              "  'price': 25,\n",
              "  'productname': 'Snickers',\n",
              "  'productof': 'Hersheys',\n",
              "  'quanity': 18},\n",
              " 10005: {'expirydate': '6monthafter',\n",
              "  'price': 20,\n",
              "  'productname': 'Layschilly',\n",
              "  'productof': 'Lays',\n",
              "  'quanity': 80},\n",
              " 10006: {'expirydate': '12monthafter',\n",
              "  'price': 10,\n",
              "  'productname': 'Sweet potato Wafers',\n",
              "  'productof': 'Balaji',\n",
              "  'quanity': 50},\n",
              " 10007: {'expirydate': '6monthafter',\n",
              "  'price': 20,\n",
              "  'productname': 'M&Ms',\n",
              "  'productof': 'Hersheys',\n",
              "  'quanity': 30},\n",
              " 10008: {'expirydate': '12monthafter',\n",
              "  'price': 5,\n",
              "  'productname': 'Kurkure',\n",
              "  'productof': 'Kurkure',\n",
              "  'quanity': 50},\n",
              " 10009: {'expirydate': '12monthafter',\n",
              "  'price': 80,\n",
              "  'productname': 'Chocospread',\n",
              "  'productof': 'Pillsbury',\n",
              "  'quanity': 40},\n",
              " 10010: {'expirydate': '12monthafter',\n",
              "  'price': 10,\n",
              "  'productname': 'Rumbles',\n",
              "  'productof': 'Balaji',\n",
              "  'quanity': 30},\n",
              " 10011: {'expirydate': '6monthafter',\n",
              "  'price': 5,\n",
              "  'productname': 'moongdal',\n",
              "  'productof': 'Balaji',\n",
              "  'quanity': 20},\n",
              " 10012: {'expirydate': '24hoursafter',\n",
              "  'price': 15,\n",
              "  'productname': 'buttermilk',\n",
              "  'productof': 'Sumul',\n",
              "  'quanity': 50},\n",
              " 10013: {'expirydate': '2monthsafter',\n",
              "  'price': 20,\n",
              "  'productname': 'Curd',\n",
              "  'productof': 'Sumul',\n",
              "  'quanity': 50},\n",
              " 10014: {'expirydate': '12monthafter',\n",
              "  'price': 1,\n",
              "  'productname': 'Pulse',\n",
              "  'productof': 'mills',\n",
              "  'quanity': 150},\n",
              " 10015: {'expirydate': '12monthafter',\n",
              "  'price': 10,\n",
              "  'productname': '5star',\n",
              "  'productof': 'Cadbury',\n",
              "  'quanity': 50},\n",
              " 10016: {'expirydate': '6monthafter',\n",
              "  'price': 5,\n",
              "  'productname': 'Munch',\n",
              "  'productof': 'Cadbury',\n",
              "  'quanity': 25},\n",
              " 10017: {'expirydate': '6monthafter',\n",
              "  'price': 70,\n",
              "  'productname': 'Darkchoclate',\n",
              "  'productof': 'Amul',\n",
              "  'quanity': 20},\n",
              " 10018: {'expirydate': '8monthafter',\n",
              "  'price': 45,\n",
              "  'productname': 'chocochips',\n",
              "  'productof': 'Havmor',\n",
              "  'quanity': 30},\n",
              " 10019: {'expirydate': '6monthafter',\n",
              "  'price': 150,\n",
              "  'productname': 'pineapple cake',\n",
              "  'productof': 'Creamcrust',\n",
              "  'quanity': 5},\n",
              " 10020: {'expirydate': '5monthafter',\n",
              "  'price': 15,\n",
              "  'productname': 'Lassi',\n",
              "  'productof': 'Amul',\n",
              "  'quanity': 20},\n",
              " 10021: {'expirydate': '9monthafter',\n",
              "  'price': 10,\n",
              "  'productname': 'coconut milk',\n",
              "  'productof': 'maheshCo.',\n",
              "  'quanity': 20},\n",
              " 10022: {'expirydate': '12monthafter',\n",
              "  'price': 60,\n",
              "  'productname': 'RedBull',\n",
              "  'productof': 'beveragesandco',\n",
              "  'quanity': 25},\n",
              " 10023: {'expirydate': '8monthafter',\n",
              "  'price': 45,\n",
              "  'productname': 'sting',\n",
              "  'productof': 'sting energy',\n",
              "  'quanity': 15},\n",
              " 10024: {'expirydate': '12monthafter',\n",
              "  'price': 10,\n",
              "  'productname': 'soda',\n",
              "  'productof': 'cocacola',\n",
              "  'quanity': 50},\n",
              " 10025: {'expirydate': '12monthafter',\n",
              "  'price': 40,\n",
              "  'productname': 'sprite',\n",
              "  'productof': 'cocacola',\n",
              "  'quanity': 50},\n",
              " 10026: {'expirydate': '12monthafter',\n",
              "  'price': 40,\n",
              "  'productname': 'fanta',\n",
              "  'productof': 'cocacola',\n",
              "  'quanity': 20},\n",
              " 10027: {'expirydate': '12monthafter',\n",
              "  'price': 30,\n",
              "  'productname': 'Pepsi',\n",
              "  'productof': 'PepsiandCo',\n",
              "  'quanity': 10},\n",
              " 10028: {'expirydate': '12monthafter',\n",
              "  'price': 45,\n",
              "  'productname': 'Limca',\n",
              "  'productof': 'cocacola',\n",
              "  'quanity': 20},\n",
              " 10029: {'expirydate': '12monthafter',\n",
              "  'price': 40,\n",
              "  'productname': 'Thumbsup',\n",
              "  'productof': 'cocacola',\n",
              "  'quanity': 30},\n",
              " 10030: {'expirydate': '6monthafter',\n",
              "  'price': 35,\n",
              "  'productname': 'lemonade',\n",
              "  'productof': 'minutemaid',\n",
              "  'quanity': 20}}"
            ]
          },
          "metadata": {},
          "execution_count": 27
        }
      ]
    },
    {
      "cell_type": "markdown",
      "metadata": {
        "id": "0Mk6NWZMOIhS"
      },
      "source": [
        "**the list is** **updated**"
      ]
    }
  ]
}